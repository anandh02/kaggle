{
 "cells": [
  {
   "cell_type": "code",
   "execution_count": 15,
   "metadata": {},
   "outputs": [],
   "source": [
    "import pandas as pd\n",
    "from ast import literal_eval"
   ]
  },
  {
   "cell_type": "code",
   "execution_count": 18,
   "metadata": {},
   "outputs": [],
   "source": [
    "md = pd.read_csv('./data/movies_metadata.csv')"
   ]
  },
  {
   "cell_type": "code",
   "execution_count": 20,
   "metadata": {},
   "outputs": [
    {
     "data": {
      "text/plain": [
       "0        [{'id': 16, 'name': 'Animation'}, {'id': 35, '...\n",
       "1        [{'id': 12, 'name': 'Adventure'}, {'id': 14, '...\n",
       "2        [{'id': 10749, 'name': 'Romance'}, {'id': 35, ...\n",
       "3        [{'id': 35, 'name': 'Comedy'}, {'id': 18, 'nam...\n",
       "4                           [{'id': 35, 'name': 'Comedy'}]\n",
       "5        [{'id': 28, 'name': 'Action'}, {'id': 80, 'nam...\n",
       "6        [{'id': 35, 'name': 'Comedy'}, {'id': 10749, '...\n",
       "7        [{'id': 28, 'name': 'Action'}, {'id': 12, 'nam...\n",
       "8        [{'id': 28, 'name': 'Action'}, {'id': 12, 'nam...\n",
       "9        [{'id': 12, 'name': 'Adventure'}, {'id': 28, '...\n",
       "10       [{'id': 35, 'name': 'Comedy'}, {'id': 18, 'nam...\n",
       "11       [{'id': 35, 'name': 'Comedy'}, {'id': 27, 'nam...\n",
       "12       [{'id': 10751, 'name': 'Family'}, {'id': 16, '...\n",
       "13       [{'id': 36, 'name': 'History'}, {'id': 18, 'na...\n",
       "14       [{'id': 28, 'name': 'Action'}, {'id': 12, 'nam...\n",
       "15       [{'id': 18, 'name': 'Drama'}, {'id': 80, 'name...\n",
       "16       [{'id': 18, 'name': 'Drama'}, {'id': 10749, 'n...\n",
       "17       [{'id': 80, 'name': 'Crime'}, {'id': 35, 'name...\n",
       "18       [{'id': 80, 'name': 'Crime'}, {'id': 35, 'name...\n",
       "19       [{'id': 28, 'name': 'Action'}, {'id': 35, 'nam...\n",
       "20       [{'id': 35, 'name': 'Comedy'}, {'id': 53, 'nam...\n",
       "21       [{'id': 18, 'name': 'Drama'}, {'id': 53, 'name...\n",
       "22       [{'id': 28, 'name': 'Action'}, {'id': 12, 'nam...\n",
       "23       [{'id': 18, 'name': 'Drama'}, {'id': 14, 'name...\n",
       "24       [{'id': 18, 'name': 'Drama'}, {'id': 10749, 'n...\n",
       "25                           [{'id': 18, 'name': 'Drama'}]\n",
       "26       [{'id': 35, 'name': 'Comedy'}, {'id': 18, 'nam...\n",
       "27       [{'id': 18, 'name': 'Drama'}, {'id': 10749, 'n...\n",
       "28       [{'id': 14, 'name': 'Fantasy'}, {'id': 878, 'n...\n",
       "29       [{'id': 18, 'name': 'Drama'}, {'id': 80, 'name...\n",
       "                               ...                        \n",
       "45436    [{'id': 28, 'name': 'Action'}, {'id': 9648, 'n...\n",
       "45437    [{'id': 10751, 'name': 'Family'}, {'id': 16, '...\n",
       "45438                        [{'id': 18, 'name': 'Drama'}]\n",
       "45439    [{'id': 18, 'name': 'Drama'}, {'id': 14, 'name...\n",
       "45440    [{'id': 18, 'name': 'Drama'}, {'id': 10751, 'n...\n",
       "45441                       [{'id': 35, 'name': 'Comedy'}]\n",
       "45442                                                   []\n",
       "45443    [{'id': 35, 'name': 'Comedy'}, {'id': 14, 'nam...\n",
       "45444                      [{'id': 14, 'name': 'Fantasy'}]\n",
       "45445    [{'id': 14, 'name': 'Fantasy'}, {'id': 35, 'na...\n",
       "45446    [{'id': 14, 'name': 'Fantasy'}, {'id': 35, 'na...\n",
       "45447                                                   []\n",
       "45448                                                   []\n",
       "45449    [{'id': 16, 'name': 'Animation'}, {'id': 10751...\n",
       "45450    [{'id': 14, 'name': 'Fantasy'}, {'id': 28, 'na...\n",
       "45451    [{'id': 35, 'name': 'Comedy'}, {'id': 14, 'nam...\n",
       "45452                  [{'id': 99, 'name': 'Documentary'}]\n",
       "45453    [{'id': 80, 'name': 'Crime'}, {'id': 18, 'name...\n",
       "45454    [{'id': 35, 'name': 'Comedy'}, {'id': 18, 'nam...\n",
       "45455                                                   []\n",
       "45456    [{'id': 27, 'name': 'Horror'}, {'id': 9648, 'n...\n",
       "45457    [{'id': 9648, 'name': 'Mystery'}, {'id': 27, '...\n",
       "45458                       [{'id': 27, 'name': 'Horror'}]\n",
       "45459             [{'id': 878, 'name': 'Science Fiction'}]\n",
       "45460    [{'id': 18, 'name': 'Drama'}, {'id': 28, 'name...\n",
       "45461    [{'id': 18, 'name': 'Drama'}, {'id': 10751, 'n...\n",
       "45462                        [{'id': 18, 'name': 'Drama'}]\n",
       "45463    [{'id': 28, 'name': 'Action'}, {'id': 18, 'nam...\n",
       "45464                                                   []\n",
       "45465                                                   []\n",
       "Name: genres, Length: 45466, dtype: object"
      ]
     },
     "execution_count": 20,
     "metadata": {},
     "output_type": "execute_result"
    }
   ],
   "source": [
    "md['genres']"
   ]
  },
  {
   "cell_type": "code",
   "execution_count": null,
   "metadata": {},
   "outputs": [],
   "source": []
  },
  {
   "cell_type": "code",
   "execution_count": 21,
   "metadata": {},
   "outputs": [
    {
     "data": {
      "text/plain": [
       "0        [{'id': 16, 'name': 'Animation'}, {'id': 35, '...\n",
       "1        [{'id': 12, 'name': 'Adventure'}, {'id': 14, '...\n",
       "2        [{'id': 10749, 'name': 'Romance'}, {'id': 35, ...\n",
       "3        [{'id': 35, 'name': 'Comedy'}, {'id': 18, 'nam...\n",
       "4                           [{'id': 35, 'name': 'Comedy'}]\n",
       "5        [{'id': 28, 'name': 'Action'}, {'id': 80, 'nam...\n",
       "6        [{'id': 35, 'name': 'Comedy'}, {'id': 10749, '...\n",
       "7        [{'id': 28, 'name': 'Action'}, {'id': 12, 'nam...\n",
       "8        [{'id': 28, 'name': 'Action'}, {'id': 12, 'nam...\n",
       "9        [{'id': 12, 'name': 'Adventure'}, {'id': 28, '...\n",
       "10       [{'id': 35, 'name': 'Comedy'}, {'id': 18, 'nam...\n",
       "11       [{'id': 35, 'name': 'Comedy'}, {'id': 27, 'nam...\n",
       "12       [{'id': 10751, 'name': 'Family'}, {'id': 16, '...\n",
       "13       [{'id': 36, 'name': 'History'}, {'id': 18, 'na...\n",
       "14       [{'id': 28, 'name': 'Action'}, {'id': 12, 'nam...\n",
       "15       [{'id': 18, 'name': 'Drama'}, {'id': 80, 'name...\n",
       "16       [{'id': 18, 'name': 'Drama'}, {'id': 10749, 'n...\n",
       "17       [{'id': 80, 'name': 'Crime'}, {'id': 35, 'name...\n",
       "18       [{'id': 80, 'name': 'Crime'}, {'id': 35, 'name...\n",
       "19       [{'id': 28, 'name': 'Action'}, {'id': 35, 'nam...\n",
       "20       [{'id': 35, 'name': 'Comedy'}, {'id': 53, 'nam...\n",
       "21       [{'id': 18, 'name': 'Drama'}, {'id': 53, 'name...\n",
       "22       [{'id': 28, 'name': 'Action'}, {'id': 12, 'nam...\n",
       "23       [{'id': 18, 'name': 'Drama'}, {'id': 14, 'name...\n",
       "24       [{'id': 18, 'name': 'Drama'}, {'id': 10749, 'n...\n",
       "25                           [{'id': 18, 'name': 'Drama'}]\n",
       "26       [{'id': 35, 'name': 'Comedy'}, {'id': 18, 'nam...\n",
       "27       [{'id': 18, 'name': 'Drama'}, {'id': 10749, 'n...\n",
       "28       [{'id': 14, 'name': 'Fantasy'}, {'id': 878, 'n...\n",
       "29       [{'id': 18, 'name': 'Drama'}, {'id': 80, 'name...\n",
       "                               ...                        \n",
       "45436    [{'id': 28, 'name': 'Action'}, {'id': 9648, 'n...\n",
       "45437    [{'id': 10751, 'name': 'Family'}, {'id': 16, '...\n",
       "45438                        [{'id': 18, 'name': 'Drama'}]\n",
       "45439    [{'id': 18, 'name': 'Drama'}, {'id': 14, 'name...\n",
       "45440    [{'id': 18, 'name': 'Drama'}, {'id': 10751, 'n...\n",
       "45441                       [{'id': 35, 'name': 'Comedy'}]\n",
       "45442                                                   []\n",
       "45443    [{'id': 35, 'name': 'Comedy'}, {'id': 14, 'nam...\n",
       "45444                      [{'id': 14, 'name': 'Fantasy'}]\n",
       "45445    [{'id': 14, 'name': 'Fantasy'}, {'id': 35, 'na...\n",
       "45446    [{'id': 14, 'name': 'Fantasy'}, {'id': 35, 'na...\n",
       "45447                                                   []\n",
       "45448                                                   []\n",
       "45449    [{'id': 16, 'name': 'Animation'}, {'id': 10751...\n",
       "45450    [{'id': 14, 'name': 'Fantasy'}, {'id': 28, 'na...\n",
       "45451    [{'id': 35, 'name': 'Comedy'}, {'id': 14, 'nam...\n",
       "45452                  [{'id': 99, 'name': 'Documentary'}]\n",
       "45453    [{'id': 80, 'name': 'Crime'}, {'id': 18, 'name...\n",
       "45454    [{'id': 35, 'name': 'Comedy'}, {'id': 18, 'nam...\n",
       "45455                                                   []\n",
       "45456    [{'id': 27, 'name': 'Horror'}, {'id': 9648, 'n...\n",
       "45457    [{'id': 9648, 'name': 'Mystery'}, {'id': 27, '...\n",
       "45458                       [{'id': 27, 'name': 'Horror'}]\n",
       "45459             [{'id': 878, 'name': 'Science Fiction'}]\n",
       "45460    [{'id': 18, 'name': 'Drama'}, {'id': 28, 'name...\n",
       "45461    [{'id': 18, 'name': 'Drama'}, {'id': 10751, 'n...\n",
       "45462                        [{'id': 18, 'name': 'Drama'}]\n",
       "45463    [{'id': 28, 'name': 'Action'}, {'id': 18, 'nam...\n",
       "45464                                                   []\n",
       "45465                                                   []\n",
       "Name: genres, Length: 45466, dtype: object"
      ]
     },
     "execution_count": 21,
     "metadata": {},
     "output_type": "execute_result"
    }
   ],
   "source": [
    "md['genres'].fillna('[]').fillna('[]').apply(literal_eval)"
   ]
  },
  {
   "cell_type": "code",
   "execution_count": 27,
   "metadata": {},
   "outputs": [
    {
     "ename": "ModuleNotFoundError",
     "evalue": "No module named 'pixiedust'",
     "output_type": "error",
     "traceback": [
      "\u001b[1;31m---------------------------------------------------------------------------\u001b[0m",
      "\u001b[1;31mModuleNotFoundError\u001b[0m                       Traceback (most recent call last)",
      "\u001b[1;32m<ipython-input-27-730caec4e245>\u001b[0m in \u001b[0;36m<module>\u001b[1;34m\u001b[0m\n\u001b[1;32m----> 1\u001b[1;33m \u001b[1;32mimport\u001b[0m \u001b[0mpixiedust\u001b[0m\u001b[1;33m\u001b[0m\u001b[0m\n\u001b[0m",
      "\u001b[1;31mModuleNotFoundError\u001b[0m: No module named 'pixiedust'"
     ]
    }
   ],
   "source": [
    "import pixiedust"
   ]
  },
  {
   "cell_type": "code",
   "execution_count": 33,
   "metadata": {},
   "outputs": [
    {
     "data": {
      "text/plain": [
       "0                        [Animation, Comedy, Family]\n",
       "1                       [Adventure, Fantasy, Family]\n",
       "2                                  [Romance, Comedy]\n",
       "3                           [Comedy, Drama, Romance]\n",
       "4                                           [Comedy]\n",
       "5                   [Action, Crime, Drama, Thriller]\n",
       "6                                  [Comedy, Romance]\n",
       "7                 [Action, Adventure, Drama, Family]\n",
       "8                      [Action, Adventure, Thriller]\n",
       "9                      [Adventure, Action, Thriller]\n",
       "10                          [Comedy, Drama, Romance]\n",
       "11                                  [Comedy, Horror]\n",
       "12                    [Family, Animation, Adventure]\n",
       "13                                  [History, Drama]\n",
       "14                               [Action, Adventure]\n",
       "15                                    [Drama, Crime]\n",
       "16                                  [Drama, Romance]\n",
       "17                                   [Crime, Comedy]\n",
       "18                        [Crime, Comedy, Adventure]\n",
       "19                           [Action, Comedy, Crime]\n",
       "20                         [Comedy, Thriller, Crime]\n",
       "21                                 [Drama, Thriller]\n",
       "22              [Action, Adventure, Crime, Thriller]\n",
       "23       [Drama, Fantasy, Science Fiction, Thriller]\n",
       "24                                  [Drama, Romance]\n",
       "25                                           [Drama]\n",
       "26                           [Comedy, Drama, Family]\n",
       "27                                  [Drama, Romance]\n",
       "28             [Fantasy, Science Fiction, Adventure]\n",
       "29                                    [Drama, Crime]\n",
       "                            ...                     \n",
       "45436            [Action, Mystery, Thriller, Horror]\n",
       "45437           [Family, Animation, Romance, Comedy]\n",
       "45438                                        [Drama]\n",
       "45439                       [Drama, Fantasy, Horror]\n",
       "45440                      [Drama, Family, TV Movie]\n",
       "45441                                       [Comedy]\n",
       "45442                                             []\n",
       "45443             [Comedy, Fantasy, Science Fiction]\n",
       "45444                                      [Fantasy]\n",
       "45445                              [Fantasy, Comedy]\n",
       "45446                              [Fantasy, Comedy]\n",
       "45447                                             []\n",
       "45448                                             []\n",
       "45449                            [Animation, Family]\n",
       "45450                    [Fantasy, Action, Thriller]\n",
       "45451                              [Comedy, Fantasy]\n",
       "45452                                  [Documentary]\n",
       "45453                       [Crime, Drama, Thriller]\n",
       "45454                                [Comedy, Drama]\n",
       "45455                                             []\n",
       "45456                    [Horror, Mystery, Thriller]\n",
       "45457                              [Mystery, Horror]\n",
       "45458                                       [Horror]\n",
       "45459                              [Science Fiction]\n",
       "45460                       [Drama, Action, Romance]\n",
       "45461                                [Drama, Family]\n",
       "45462                                        [Drama]\n",
       "45463                      [Action, Drama, Thriller]\n",
       "45464                                             []\n",
       "45465                                             []\n",
       "Name: genres, Length: 45466, dtype: object"
      ]
     },
     "execution_count": 33,
     "metadata": {},
     "output_type": "execute_result"
    }
   ],
   "source": [
    "md['genres'].apply(literal_eval).apply(lambda x: [i['name'] for i in x] )"
   ]
  },
  {
   "cell_type": "code",
   "execution_count": null,
   "metadata": {},
   "outputs": [],
   "source": []
  },
  {
   "cell_type": "code",
   "execution_count": null,
   "metadata": {},
   "outputs": [],
   "source": []
  }
 ],
 "metadata": {
  "kernelspec": {
   "display_name": "Python [conda root]",
   "language": "python",
   "name": "conda-root-py"
  },
  "language_info": {
   "codemirror_mode": {
    "name": "ipython",
    "version": 3
   },
   "file_extension": ".py",
   "mimetype": "text/x-python",
   "name": "python",
   "nbconvert_exporter": "python",
   "pygments_lexer": "ipython3",
   "version": "3.6.6"
  }
 },
 "nbformat": 4,
 "nbformat_minor": 2
}
